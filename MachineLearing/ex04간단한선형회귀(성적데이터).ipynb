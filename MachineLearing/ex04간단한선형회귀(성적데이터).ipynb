{
 "cells": [
  {
   "cell_type": "markdown",
   "id": "e75c9bc1",
   "metadata": {},
   "source": [
    "### 선형회귀\n",
    "- 공부시간에 따른 성적데이터를 기반으로 선형회귀를 이해\n",
    "- 경사하강법의 이해와 사용"
   ]
  },
  {
   "cell_type": "code",
   "execution_count": null,
   "id": "2090c3ae",
   "metadata": {},
   "outputs": [],
   "source": [
    "# 성적 데이터 생성을 위한 라이브러리\n",
    "import pandas as pd\n",
    "import matplotlib.pyplot as plt"
   ]
  },
  {
   "cell_type": "code",
   "execution_count": null,
   "id": "e00bfc3e",
   "metadata": {},
   "outputs": [],
   "source": [
    "# 성적데이터 생성\n",
    "data = pd.DataFrame([[2,20], [4,40], [8,80], [9,90]],\n",
    "             index=['자영', '다이', '준용', '예진'],\n",
    "             columns=['공부한시간', '성적'])\n",
    "data"
   ]
  },
  {
   "cell_type": "markdown",
   "id": "16ce05b9",
   "metadata": {},
   "source": [
    "### 평균제곱오차가 최소가 되는 최적화\n",
    "1. 수학 공식을 이용한 해석적 모델\n",
    "2. 경사하강법을 이용한 모델"
   ]
  },
  {
   "cell_type": "markdown",
   "id": "2c24b8ca",
   "metadata": {},
   "source": [
    "#### 1. 수학공식"
   ]
  },
  {
   "cell_type": "code",
   "execution_count": null,
   "id": "9c223ed3",
   "metadata": {},
   "outputs": [],
   "source": [
    "# 모델 라이브러리\n",
    "from sklearn.linear_model import LinearRegression"
   ]
  },
  {
   "cell_type": "code",
   "execution_count": null,
   "id": "8280b35e",
   "metadata": {},
   "outputs": [],
   "source": [
    "# 모델 객체 생성\n",
    "# 별도의 하이퍼파라미터 없음\n",
    "liner_model = LinearRegression()"
   ]
  },
  {
   "cell_type": "code",
   "execution_count": null,
   "id": "b69f04f2",
   "metadata": {},
   "outputs": [],
   "source": [
    "# 모델 학습\n",
    "# 모델명.fit(문제데이터, 답데이터)\n",
    "# 문제, 답 데이터는 2차원이여야 함\n",
    "liner_model.fit(data[['공부한시간']], data[['성적']])"
   ]
  },
  {
   "cell_type": "markdown",
   "id": "690d45c6",
   "metadata": {},
   "source": [
    "#### 가중치와 절편 값 구하기\n",
    "- y = wx + b (1개의 문제)"
   ]
  },
  {
   "cell_type": "code",
   "execution_count": null,
   "id": "cd1149a0",
   "metadata": {},
   "outputs": [],
   "source": [
    "# 모델이 예측한 가중치(w), 절편(b) 확인\n",
    "# y=wx+b\n",
    "\n",
    "# w: 가중치, 기울기\n",
    "display(f'기울기: {liner_model.coef_}')\n",
    "\n",
    "# b: 절편\n",
    "display(f'절편: {liner_model.intercept_}')"
   ]
  },
  {
   "cell_type": "code",
   "execution_count": null,
   "id": "bcc6efd2",
   "metadata": {},
   "outputs": [],
   "source": [
    "# 2차원으로 바꿔서 변환\n",
    "liner_model.predict([[7]])"
   ]
  },
  {
   "cell_type": "markdown",
   "id": "d9f547b0",
   "metadata": {},
   "source": [
    "#### 2. 경사하강법\n",
    "- 선형모델 MSE가 최소가 되는 w(가중치), b(절편)을 찾는 방법\n",
    "- 점진적으로 오차가 적은 선형함수를 찾아가는 방법\n",
    "- 찾고자하는 값(w,b)에 변화에 따른 비용함수(cost)값의 변환 그래프를 출력"
   ]
  },
  {
   "cell_type": "markdown",
   "id": "4ccc5a95",
   "metadata": {},
   "source": [
    "#### 가중치 변화에 따른 MSE 변화 그래프 확인"
   ]
  },
  {
   "cell_type": "code",
   "execution_count": null,
   "id": "268bd52c",
   "metadata": {},
   "outputs": [],
   "source": [
    "def h(w, x):\n",
    "    return w*x + 0"
   ]
  },
  {
   "cell_type": "code",
   "execution_count": null,
   "id": "0563f22d",
   "metadata": {},
   "outputs": [],
   "source": [
    "# 비용함수 정의\n",
    "# 오차 == (예측값 - 실제값)\n",
    "\n",
    "def cost(data, target, weight):\n",
    "    # 예측\n",
    "    y_pre = h(weight, data)\n",
    "    # 평균제곱오차(MSE) == (오차 ** 2).mean()\n",
    "    return ((y_pre - target)**2).mean()"
   ]
  },
  {
   "cell_type": "code",
   "execution_count": null,
   "id": "7d9c9796",
   "metadata": {},
   "outputs": [],
   "source": [
    "# 가중치에 따른 오차값 확인\n",
    "# 예측한 가중치가 10일 경우\n",
    "# y = 10*X + 0\n",
    "cost(data['공부한시간'], data['성적'], 10)"
   ]
  },
  {
   "cell_type": "code",
   "execution_count": null,
   "id": "abd9ab27",
   "metadata": {},
   "outputs": [],
   "source": [
    "# 예측한 가중치가 5일 경우\n",
    "cost(data['공부한시간'], data['성적'], 5)"
   ]
  },
  {
   "cell_type": "code",
   "execution_count": null,
   "id": "f1ded6b3",
   "metadata": {},
   "outputs": [],
   "source": [
    "# 예측한가중치가 15일 경우\n",
    "cost(data['공부한시간'], data['성적'], 15)"
   ]
  },
  {
   "cell_type": "code",
   "execution_count": null,
   "id": "f787b54b",
   "metadata": {},
   "outputs": [],
   "source": [
    "# 가중치 변환에 따른 비용함수(MSE)의 변화를 그려보기\n",
    "cost_list=[]\n",
    "for i in range(-100,125,1):\n",
    "    cost_list.append(cost(data['공부한시간'], data['성적'], i))\n",
    "\n",
    "print(cost_list)"
   ]
  },
  {
   "cell_type": "code",
   "execution_count": null,
   "id": "79f072fc",
   "metadata": {},
   "outputs": [],
   "source": [
    "# 비용함수 그려보기\n",
    "plt.plot(range(-100,125), cost_list)"
   ]
  },
  {
   "cell_type": "markdown",
   "id": "4ceb98ee",
   "metadata": {},
   "source": [
    "### 확률적 경사하강법\n",
    "- 사이킷런에서 구성해놓은 경사하강법을 활용한 선형회귀모델\n",
    "- 경사하강법을 이용하는 모델"
   ]
  },
  {
   "cell_type": "code",
   "execution_count": null,
   "id": "84aac3de",
   "metadata": {},
   "outputs": [],
   "source": [
    "from sklearn.linear_model import SGDRegressor"
   ]
  },
  {
   "cell_type": "code",
   "execution_count": null,
   "id": "e1cea147",
   "metadata": {},
   "outputs": [],
   "source": [
    "# 1. 모델 정의\n",
    "sgd_model = SGDRegressor(eta0=0.001,   # Learing rate(학습률)\n",
    "                         max_iter=500, # 가중치(w, b) 업데이트 반복횟수(에포크)\n",
    "                         verbose=1)    \n",
    "sgd_model"
   ]
  },
  {
   "cell_type": "code",
   "execution_count": null,
   "id": "9bd72789",
   "metadata": {},
   "outputs": [],
   "source": [
    "# 2. 모델학습\n",
    "sgd_model.fit(data[['공부한시간']], data['성적'])"
   ]
  },
  {
   "cell_type": "code",
   "execution_count": null,
   "id": "ac78db16",
   "metadata": {},
   "outputs": [],
   "source": [
    "# 3. 모델 예측\n",
    "sgd_model.predict([[7]])"
   ]
  },
  {
   "cell_type": "code",
   "execution_count": null,
   "id": "2cd9850c",
   "metadata": {},
   "outputs": [],
   "source": [
    "print('w: ', sgd_model.coef_)\n",
    "print('b: ', sgd_model.intercept_)"
   ]
  },
  {
   "cell_type": "code",
   "execution_count": null,
   "id": "8ef89cfc",
   "metadata": {},
   "outputs": [],
   "source": [
    "sgd_model.score(data[['공부한시간']], data['성적'])"
   ]
  }
 ],
 "metadata": {
  "kernelspec": {
   "display_name": "dev",
   "language": "python",
   "name": "python3"
  },
  "language_info": {
   "codemirror_mode": {
    "name": "ipython",
    "version": 3
   },
   "file_extension": ".py",
   "mimetype": "text/x-python",
   "name": "python",
   "nbconvert_exporter": "python",
   "pygments_lexer": "ipython3",
   "version": "3.12.11"
  }
 },
 "nbformat": 4,
 "nbformat_minor": 5
}
